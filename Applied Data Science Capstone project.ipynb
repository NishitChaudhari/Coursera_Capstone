{
 "cells": [
  {
   "cell_type": "markdown",
   "id": "prospective-miller",
   "metadata": {},
   "source": [
    "#                  Applied Data Science Capstone project"
   ]
  },
  {
   "cell_type": "markdown",
   "id": "loaded-decimal",
   "metadata": {},
   "source": [
    "### This notebook will be used for the capstone project under the course 'Applied Data Science Capstone' on coursera."
   ]
  },
  {
   "cell_type": "code",
   "execution_count": 1,
   "id": "negative-portfolio",
   "metadata": {},
   "outputs": [],
   "source": [
    "import pandas as pd\n",
    "import numpy as np"
   ]
  },
  {
   "cell_type": "code",
   "execution_count": 2,
   "id": "moved-complement",
   "metadata": {},
   "outputs": [
    {
     "name": "stdout",
     "output_type": "stream",
     "text": [
      "Hello Capstone Project Course\n"
     ]
    }
   ],
   "source": [
    "print(\"Hello Capstone Project Course\")"
   ]
  },
  {
   "cell_type": "code",
   "execution_count": null,
   "id": "lasting-arizona",
   "metadata": {},
   "outputs": [],
   "source": []
  }
 ],
 "metadata": {
  "kernelspec": {
   "display_name": "Python 3",
   "language": "python",
   "name": "python3"
  },
  "language_info": {
   "codemirror_mode": {
    "name": "ipython",
    "version": 3
   },
   "file_extension": ".py",
   "mimetype": "text/x-python",
   "name": "python",
   "nbconvert_exporter": "python",
   "pygments_lexer": "ipython3",
   "version": "3.6.2"
  }
 },
 "nbformat": 4,
 "nbformat_minor": 5
}
